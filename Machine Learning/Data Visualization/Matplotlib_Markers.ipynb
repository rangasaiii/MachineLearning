{
  "nbformat": 4,
  "nbformat_minor": 0,
  "metadata": {
    "colab": {
      "name": "Matplotlib-Markers.ipynb",
      "provenance": [],
      "collapsed_sections": []
    },
    "kernelspec": {
      "name": "python3",
      "display_name": "Python 3"
    },
    "language_info": {
      "name": "python"
    }
  },
  "cells": [
    {
      "cell_type": "markdown",
      "metadata": {
        "id": "K-GuCP2GPeFr"
      },
      "source": [
        "# Matplotlib\n",
        "### What is Matplotlib?\n",
        "Matplotlib is a low level graph plotting library in python that serves as a visualization utility.\n",
        "\n",
        "Matplotlib was created by John D. Hunter.\n",
        "\n",
        "Matplotlib is open source and we can use it freely.\n",
        "\n",
        "Matplotlib is mostly written in python, a few segments are written in C, Objective-C and Javascript for Platform compatibility.\n",
        "\n",
        "### Installation of Matplotlib\n",
        "If you have Python and PIP already installed on a system, then installation of Matplotlib is very easy.\n",
        "\n",
        "Install it using this command:\n",
        "\n",
        "`C:\\Users\\Your Name>pip install matplotlib`\n",
        "\n",
        "### Import Matplotlib\n",
        "\n",
        "`import matplotlib`\n",
        "\n",
        "## **Matplotlib Pyplot**\n",
        "\n",
        "Most of the Matplotlib utilities lies under the *pyplot* submodule, and are usually imported under the *plt* alias:"
      ]
    },
    {
      "cell_type": "code",
      "metadata": {
        "id": "ic8TYkTqRBd6"
      },
      "source": [
        "import matplotlib.pyplot as plt"
      ],
      "execution_count": null,
      "outputs": []
    },
    {
      "cell_type": "markdown",
      "metadata": {
        "id": "DvU08n98RLWl"
      },
      "source": [
        "Now the Pyplot package can be referred to as **plt**.\n",
        "\n",
        "**Example 1.**\n",
        "\n",
        "Draw a line in a diagram from position (0,0) to position (6,250):"
      ]
    },
    {
      "cell_type": "code",
      "metadata": {
        "id": "N3H5vS1IRatg"
      },
      "source": [
        "import matplotlib.pyplot as plt\n",
        "import numpy as np\n",
        "\n",
        "xpoints = np.array([0, 6])\n",
        "ypoints = np.array([0, 250])\n",
        "\n",
        "plt.plot(xpoints, ypoints)\n",
        "plt.show()"
      ],
      "execution_count": null,
      "outputs": []
    },
    {
      "cell_type": "markdown",
      "metadata": {
        "id": "jIdd6qT5RlPv"
      },
      "source": [
        "### **Matplotlib Plotting**\n",
        "\n",
        "**Plotting x and y points**\n",
        "\n",
        "The **plot()** function is used to draw points (markers) in a diagram.\n",
        "\n",
        "By default, the **plot()** function draws a line from point to point.\n",
        "\n",
        "The function takes parameters for specifying points in the diagram.\n",
        "\n",
        "Parameter 1 is an array containing the points on the **x-axis**.\n",
        "\n",
        "Parameter 2 is an array containing the points on the **y-axis**.\n",
        "\n",
        "If we need to plot a line from (1, 3) to (8, 10), we have to pass two arrays [1, 8] and [3, 10] to the plot function.\n",
        "\n",
        "**Example 2.**\n",
        "\n",
        "Draw a line in a diagram from position (1, 3) to position (8, 10):"
      ]
    },
    {
      "cell_type": "code",
      "metadata": {
        "id": "pEqGYP2LSC0G"
      },
      "source": [
        "import matplotlib.pyplot as plt\n",
        "import numpy as np\n",
        "\n",
        "xpoints = np.array([1, 8])\n",
        "ypoints = np.array([3, 10])\n",
        "\n",
        "plt.plot(xpoints, ypoints)\n",
        "plt.show()"
      ],
      "execution_count": null,
      "outputs": []
    },
    {
      "cell_type": "markdown",
      "metadata": {
        "id": "quG1zhJfSHNO"
      },
      "source": [
        "**The x-axis is the horizontal axis.**\n",
        "\n",
        "**The y-axis is the vertical axis.**\n",
        "\n",
        "### Plotting Without Line\n",
        "\n",
        "To plot only the markers, you can use *shortcut string notation* parameter `o`, which means `rings`.\n",
        "\n",
        "**Example 3.**\n",
        "\n",
        "Draw two points in the diagram, one at position (1, 3) and one in position (8, 10):"
      ]
    },
    {
      "cell_type": "code",
      "metadata": {
        "id": "ghHz-HiTZLFy"
      },
      "source": [
        "import matplotlib.pyplot as plt\n",
        "import numpy as np\n",
        "\n",
        "xpoints = np.array([1, 8])\n",
        "ypoints = np.array([3, 10])\n",
        "\n",
        "plt.plot(xpoints, ypoints, 'o')\n",
        "plt.show()"
      ],
      "execution_count": null,
      "outputs": []
    },
    {
      "cell_type": "markdown",
      "metadata": {
        "id": "gg42CN4HZU__"
      },
      "source": [
        "### Multiple Points\n",
        "\n",
        "You can plot as many points as you like, just make sure you have the same number of points in both axis.\n",
        "\n",
        "**Example 4.**\n",
        "\n",
        "Draw a line in a diagram from position (1, 3) to (2, 8) then to (6, 1) and finally to position (8, 10):"
      ]
    },
    {
      "cell_type": "code",
      "metadata": {
        "id": "9j5AnNo3Zgpv"
      },
      "source": [
        "import matplotlib.pyplot as plt\n",
        "import numpy as np\n",
        "\n",
        "xpoints = np.array([1, 2, 6, 8])\n",
        "ypoints = np.array([3, 8, 1, 10])\n",
        "\n",
        "plt.plot(xpoints, ypoints)\n",
        "plt.show()"
      ],
      "execution_count": null,
      "outputs": []
    },
    {
      "cell_type": "markdown",
      "metadata": {
        "id": "OMbSC3-IZj9A"
      },
      "source": [
        "### Default X-Points\n",
        "\n",
        "If we do not specify the points in the x-axis, they will get the default values 0, 1, 2, 3, (etc. depending on the length of the y-points.\n",
        "\n",
        "So, if we take the same example as above, and leave out the x-points, the diagram will look like this:\n",
        "\n",
        "**Example 5.**\n",
        "\n",
        "Plotting without x-points:"
      ]
    },
    {
      "cell_type": "code",
      "metadata": {
        "id": "cYOunClRZ2Vz"
      },
      "source": [
        "import matplotlib.pyplot as plt\n",
        "import numpy as np\n",
        "\n",
        "ypoints = np.array([3, 8, 1, 10, 5, 7])\n",
        "\n",
        "plt.plot(ypoints)\n",
        "plt.show()"
      ],
      "execution_count": null,
      "outputs": []
    },
    {
      "cell_type": "markdown",
      "metadata": {
        "id": "4GdKF8_nZ6no"
      },
      "source": [
        "## **Matplotlib Markers**\n",
        "\n",
        "You can use the keyword argument `marker` to emphasize each point with a specified marker:\n",
        "\n",
        "**Example 6.**\n",
        "\n",
        "Mark each point with a circle:"
      ]
    },
    {
      "cell_type": "code",
      "metadata": {
        "id": "-R7IRDCFag-5"
      },
      "source": [
        "import matplotlib.pyplot as plt\n",
        "import numpy as np\n",
        "\n",
        "ypoints = np.array([3, 8, 1, 10])\n",
        "\n",
        "plt.plot(ypoints, marker = 'o')\n",
        "plt.show()"
      ],
      "execution_count": null,
      "outputs": []
    },
    {
      "cell_type": "markdown",
      "metadata": {
        "id": "2tatF_PIah7V"
      },
      "source": [
        "**Example 7.**\n",
        "\n",
        "Mark each point with a star:"
      ]
    },
    {
      "cell_type": "code",
      "metadata": {
        "id": "q9fojIvaatJH"
      },
      "source": [
        "import matplotlib.pyplot as plt\n",
        "import numpy as np\n",
        "\n",
        "ypoints = np.array([3, 8, 1, 10])\n",
        "\n",
        "plt.plot(ypoints, marker = '*')\n",
        "plt.show()"
      ],
      "execution_count": null,
      "outputs": []
    },
    {
      "cell_type": "markdown",
      "metadata": {
        "id": "LMPLUdp4ayQn"
      },
      "source": [
        "### **Marker Reference**\n",
        "\n",
        "You can choose any of these markers:\n",
        "\n",
        "| Marker | Description | Marker | Description | Marker | Description |\n",
        "|:---:|:---:|:---:|:---:|:---:|:---:|\n",
        "| o | Circle | *  | Star | . | Point|\n",
        "| , | Pixel | x  | X | X | X (filled)|\n",
        "| + | Plus | P  | Plus (filled) | s | Square|\n",
        "| D | Diamond | d  | Diamond (thin) | p | Pentagon|\n",
        "| H | Hexagon | h  | Hexagon | v | Triangle Down|\n",
        "| ^ | Triangle Up | <  | Triangle Left | > | Triangle Right|\n",
        "| 1 | Tri Down | 2  | Tri Up | 3 | Tri Left|\n",
        "| 4 | Tri Right | \\ |  Vline | \\_ | Hline|\t"
      ]
    },
    {
      "cell_type": "markdown",
      "metadata": {
        "id": "-6G15ZWEjgmi"
      },
      "source": [
        "Format Strings **fmt**\n",
        "\n",
        "You can use also use the shortcut string notation parameter to specify the marker.\n",
        "\n",
        "This parameter is also called fmt, and is written with this syntax:\n",
        "\n",
        "*marker* | *line* | *color*\n",
        "\n",
        "**Example 8.**\n",
        "\n",
        "Mark each point with a circle:"
      ]
    },
    {
      "cell_type": "code",
      "metadata": {
        "id": "esLFO3nZj666"
      },
      "source": [
        "import matplotlib.pyplot as plt\n",
        "import numpy as np\n",
        "\n",
        "ypoints = np.array([3, 8, 1, 10])\n",
        "\n",
        "plt.plot(ypoints, 'o:r')\n",
        "plt.show()"
      ],
      "execution_count": null,
      "outputs": []
    },
    {
      "cell_type": "markdown",
      "metadata": {
        "id": "oYDokUr6kAg5"
      },
      "source": [
        "The marker value can be anything from the Marker Reference above.\n",
        "\n",
        "The line value can be one of the following:\n",
        "\n",
        "### **Line Reference**\n",
        "\n",
        "| Line Syntax |\tDescription|\n",
        "| :---: | :---: |\n",
        "| - |\tSolid line |\t\n",
        "| : |\tDotted line |\t\n",
        "| -- | Dashed line |\t\n",
        "| -. | Dashed/dotted line |\n",
        "\n",
        "**Note:** If you leave out the line value in the fmt parameter, no line will be plottet.\n",
        "\n",
        "The short color value can be one of the following:\n",
        "\n",
        "### **Color Reference**\n",
        "\n",
        "| Color Syntax | Description | Color Syntax | Description |\n",
        "| :---: | :---: | :---: | :---: |\n",
        "| r |\tRed | g |\tGreen |\n",
        "| b |\tBlue | c | Cyan |\n",
        "| m |\tMagenta | y |\tYellow |\n",
        "| k |\tBlack | w |\tWhite |\n",
        "\n",
        "### **Marker Size**\n",
        "\n",
        "You can use the keyword argument **markersize** or the shorter version, `ms` to set the size of the markers:\n",
        "\n",
        "**Example 9.**\n",
        "\n",
        "Set the size of the markers to 20:"
      ]
    },
    {
      "cell_type": "code",
      "metadata": {
        "id": "YRBMqNlaloBj"
      },
      "source": [
        "import matplotlib.pyplot as plt\n",
        "import numpy as np\n",
        "\n",
        "ypoints = np.array([3, 8, 1, 10])\n",
        "\n",
        "plt.plot(ypoints, marker = 'o', ms = 20)\n",
        "plt.show()"
      ],
      "execution_count": null,
      "outputs": []
    },
    {
      "cell_type": "markdown",
      "metadata": {
        "id": "1vZRbtPTlsA0"
      },
      "source": [
        "### **Marker Color**\n",
        "You can use the keyword argument `markeredgecolor` or the shorter `mec` to set the color of the edge of the markers:\n",
        "\n",
        "**Example 10.**\n",
        "\n",
        "Set the EDGE color to red:"
      ]
    },
    {
      "cell_type": "code",
      "metadata": {
        "id": "9zL0YWoXl-cK"
      },
      "source": [
        "import matplotlib.pyplot as plt\n",
        "import numpy as np\n",
        "\n",
        "ypoints = np.array([3, 8, 1, 10])\n",
        "\n",
        "plt.plot(ypoints, marker = 'o', ms = 20, mec = 'r')\n",
        "plt.show()"
      ],
      "execution_count": null,
      "outputs": []
    },
    {
      "cell_type": "markdown",
      "metadata": {
        "id": "RmzSwsIrmD7L"
      },
      "source": [
        "You can use the keyword argument `markerfacecolor` or the shorter `mfc` to set the color inside the edge of the markers:\n",
        "\n",
        "**Example 11.**\n",
        "\n",
        "Set the FACE color to red:"
      ]
    },
    {
      "cell_type": "code",
      "metadata": {
        "id": "oRLdo_KJmLeZ"
      },
      "source": [
        "import matplotlib.pyplot as plt\n",
        "import numpy as np\n",
        "\n",
        "ypoints = np.array([3, 8, 1, 10])\n",
        "\n",
        "plt.plot(ypoints, marker = 'o', ms = 20, mfc = 'r')\n",
        "plt.show()"
      ],
      "execution_count": null,
      "outputs": []
    },
    {
      "cell_type": "markdown",
      "metadata": {
        "id": "QFOojVwpmQpR"
      },
      "source": [
        "Use both the `mec` and `mfc` arguments to color of the entire marker:\n",
        "\n",
        "**Example 12.**\n",
        "\n",
        "Set the color of both the edge and the face to red:"
      ]
    },
    {
      "cell_type": "code",
      "metadata": {
        "id": "z5ECNO_xmdEn"
      },
      "source": [
        "import matplotlib.pyplot as plt\n",
        "import numpy as np\n",
        "\n",
        "ypoints = np.array([3, 8, 1, 10])\n",
        "\n",
        "plt.plot(ypoints, marker = 'o', ms = 20, mec = 'r', mfc = 'r')\n",
        "plt.show()"
      ],
      "execution_count": null,
      "outputs": []
    },
    {
      "cell_type": "markdown",
      "metadata": {
        "id": "TwiYdLqHmhJ9"
      },
      "source": [
        "You can also use Hexadecimal color values:\n",
        "\n",
        "**Example 13.** \n",
        "\n",
        "Mark each point with a beautiful green color:"
      ]
    },
    {
      "cell_type": "code",
      "metadata": {
        "id": "Ocznfg8Kmt7G"
      },
      "source": [
        "import matplotlib.pyplot as plt\n",
        "import numpy as np\n",
        "\n",
        "ypoints = np.array([3, 8, 1, 10])\n",
        "\n",
        "plt.plot(ypoints, marker = 'o', ms = 20, mec = '#4CAF50', mfc = '#4CAF50')\n",
        "plt.show()"
      ],
      "execution_count": null,
      "outputs": []
    },
    {
      "cell_type": "markdown",
      "metadata": {
        "id": "YLAaoIGimzXY"
      },
      "source": [
        "Or any of the 140 [supported color names](https://www.w3schools.com/colors/colors_names.asp).\n",
        "\n",
        "**Example 14.** \n",
        "\n",
        "Mark each point with the color named \"hotpink\":"
      ]
    },
    {
      "cell_type": "code",
      "metadata": {
        "id": "wSfWtiwcnDij"
      },
      "source": [
        "import matplotlib.pyplot as plt\n",
        "import numpy as np\n",
        "\n",
        "ypoints = np.array([3, 8, 1, 10])\n",
        "\n",
        "plt.plot(ypoints, marker = 'o', ms = 20, mec = 'hotpink', mfc = 'hotpink')\n",
        "plt.show()"
      ],
      "execution_count": null,
      "outputs": []
    },
    {
      "cell_type": "markdown",
      "metadata": {
        "id": "SLrixAdNns8E"
      },
      "source": [
        "### **Exercise:**\n",
        "\n",
        "**Exercise 1:** Create data frame for month and total profit, Read Total profit of all months and show it using a line plot\n",
        "Total profit data provided for each month. \n",
        "\n",
        "Generated line plot must include the following properties: –\n",
        "\n",
        "X label name = Month Number\n",
        "\n",
        "Y label name = Total profit\n",
        "\n"
      ]
    },
    {
      "cell_type": "markdown",
      "metadata": {
        "id": "ERziaGFtpiKI"
      },
      "source": [
        "**Exercise 2:** Get total profit of all months and show line plot with the following Style properties\n",
        "\n",
        "Generated line plot must include following Style properties: –\n",
        "\n",
        "*   Line Style dotted and Line-color should be red\n",
        "*   Show legend at the lower right location.\n",
        "*   X label name = Month Number\n",
        "*   Y label name = Sold units number\n",
        "*   Add a circle marker.\n",
        "*   Line marker color as read\n",
        "*   Line width should be 3"
      ]
    }
  ]
}